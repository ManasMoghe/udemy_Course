{
 "cells": [
  {
   "cell_type": "markdown",
   "metadata": {},
   "source": [
    "# Module 3: Data Structures Assignments\n",
    "## Lesson 3.1: Lists\n",
    "### Assignment 1: Creating and Accessing Lists\n",
    "\n",
    "Create a list of the first 20 positive integers. Print the list.\n",
    "\n",
    "### Assignment 2: Accessing List Elements\n",
    "\n",
    "Print the first, middle, and last elements of the list created in Assignment 1.\n",
    "\n",
    "### Assignment 3: List Slicing\n",
    "\n",
    "Print the first five elements, the last five elements, and the elements from index 5 to 15 of the list created in Assignment 1.\n",
    "\n",
    "### Assignment 4: List Comprehensions\n",
    "\n",
    "Create a new list containing the squares of the first 10 positive integers using a list comprehension. Print the new list.\n",
    "\n",
    "### Assignment 5: Filtering Lists\n",
    "\n",
    "Create a new list containing only the even numbers from the list created in Assignment 1 using a list comprehension. Print the new list.\n",
    "\n",
    "### Assignment 6: List Methods\n",
    "\n",
    "Create a list of random numbers and sort it in ascending and descending order. Remove the duplicates from the list and print the modified list.\n",
    "\n",
    "### Assignment 7: Nested Lists\n",
    "\n",
    "Create a nested list representing a 3x3 matrix and print the matrix. Access and print the element at the second row and third column.\n",
    "\n",
    "### Assignment 8: List of Dictionaries\n",
    "\n",
    "Create a list of dictionaries where each dictionary represents a student with keys 'name' and 'score'. Sort the list of dictionaries by the 'score' in descending order and print the sorted list.\n",
    "\n",
    "### Assignment 9: Matrix Transposition\n",
    "\n",
    "Write a function that takes a 3x3 matrix (nested list) as input and returns its transpose. Print the original and transposed matrices.\n",
    "\n",
    "### Assignment 10: Flattening a Nested List\n",
    "\n",
    "Write a function that takes a nested list and flattens it into a single list. Print the original and flattened lists.\n",
    "\n",
    "### Assignment 11: List Manipulation\n",
    "\n",
    "Create a list of the first 10 positive integers. Remove the elements at indices 2, 4, and 6, and insert the element '99' at index 5. Print the modified list.\n",
    "\n",
    "### Assignment 12: List Zipping\n",
    "\n",
    "Create two lists of the same length. Use the `zip` function to combine these lists into a list of tuples and print the result.\n",
    "\n",
    "### Assignment 13: List Reversal\n",
    "\n",
    "Write a function that takes a list and returns a new list with the elements in reverse order. Print the original and reversed lists.\n",
    "\n",
    "### Assignment 14: List Rotation\n",
    "\n",
    "Write a function that rotates a list by n positions. Print the original and rotated lists.\n",
    "\n",
    "### Assignment 15: List Intersection\n",
    "\n",
    "Write a function that takes two lists and returns a new list containing only the elements that are present in both lists. Print the intersected list."
   ]
  },
  {
   "cell_type": "code",
   "execution_count": 43,
   "id": "6d95e414",
   "metadata": {},
   "outputs": [
    {
     "name": "stdout",
     "output_type": "stream",
     "text": [
      "[1, 2, 3, 4, 5, 6, 7, 8, 9, 10, 11, 12, 13, 14, 15, 16, 17, 18, 19, 20]\n"
     ]
    }
   ],
   "source": [
    "#1\n",
    "lst=list(range(1,21))\n",
    "print(lst)"
   ]
  },
  {
   "cell_type": "code",
   "execution_count": 44,
   "id": "8893aca7",
   "metadata": {},
   "outputs": [
    {
     "name": "stdout",
     "output_type": "stream",
     "text": [
      "1\n",
      "11\n",
      "20\n"
     ]
    }
   ],
   "source": [
    "#2\n",
    "print(lst[0])\n",
    "print(lst[len(lst)//2])\n",
    "print(lst[-1])"
   ]
  },
  {
   "cell_type": "code",
   "execution_count": 45,
   "id": "8ad3b841",
   "metadata": {},
   "outputs": [
    {
     "name": "stdout",
     "output_type": "stream",
     "text": [
      "[1, 2, 3, 4, 5]\n",
      "[16, 17, 18, 19, 20]\n",
      "[6, 7, 8, 9, 10, 11, 12, 13, 14, 15]\n"
     ]
    }
   ],
   "source": [
    "#3\n",
    "print(lst[:5])\n",
    "print(lst[-5:])\n",
    "print(lst[5:15])"
   ]
  },
  {
   "cell_type": "code",
   "execution_count": 46,
   "id": "46158b99",
   "metadata": {},
   "outputs": [
    {
     "name": "stdout",
     "output_type": "stream",
     "text": [
      "[1, 4, 9, 16, 25, 36, 49, 64, 81, 100]\n"
     ]
    }
   ],
   "source": [
    "#4\n",
    "sqr=[num**2 for num in range(1,11)]\n",
    "print(sqr)"
   ]
  },
  {
   "cell_type": "code",
   "execution_count": 47,
   "id": "cf0d00f2",
   "metadata": {},
   "outputs": [
    {
     "name": "stdout",
     "output_type": "stream",
     "text": [
      "[2, 4, 6, 8, 10, 12, 14, 16, 18, 20]\n"
     ]
    }
   ],
   "source": [
    "#5\n",
    "lst1=[num for num in lst if num%2==0]\n",
    "print(lst1)"
   ]
  },
  {
   "cell_type": "code",
   "execution_count": 48,
   "id": "f51e5d69",
   "metadata": {},
   "outputs": [
    {
     "name": "stdout",
     "output_type": "stream",
     "text": [
      "[1, 3, 5, 5, 6, 7, 8, 8, 10, 12, 13, 13, 16, 19, 19]\n",
      "[{1, 3, 5, 6, 7, 8, 10, 12, 13, 16, 19}]\n"
     ]
    }
   ],
   "source": [
    "#6\n",
    "import random\n",
    "lst2=[random.randint(1,20) for _ in range(15)]\n",
    "lst2.sort()\n",
    "lst3=[set(lst2)]\n",
    "print(lst2)\n",
    "print(lst3)"
   ]
  },
  {
   "cell_type": "code",
   "execution_count": 49,
   "id": "f14b8146",
   "metadata": {},
   "outputs": [
    {
     "name": "stdout",
     "output_type": "stream",
     "text": [
      "[1, 2, 3]\n",
      "[4, 5, 6]\n",
      "[7, 8, 9]\n",
      "6\n"
     ]
    }
   ],
   "source": [
    "#7\n",
    "matrix=[[1,2,3],\n",
    "        [4,5,6],\n",
    "        [7,8,9]]\n",
    "for row in matrix:\n",
    "    print(row)\n",
    "print(matrix[1][2])"
   ]
  },
  {
   "cell_type": "code",
   "execution_count": 50,
   "id": "0f6789f8",
   "metadata": {},
   "outputs": [
    {
     "name": "stdout",
     "output_type": "stream",
     "text": [
      "[{'name': 'Gohan', 'score': 100}, {'name': 'Vegeta', 'score': 70}, {'name': 'Goku', 'score': 50}]\n"
     ]
    }
   ],
   "source": [
    "#8\n",
    "lst=[{'name':'Goku','score':50},\n",
    "     {'name':'Vegeta','score':70},\n",
    "     {'name':'Gohan','score':100}]\n",
    "lst.sort(key=lambda x:x['score'],reverse=True)\n",
    "print(lst)"
   ]
  },
  {
   "cell_type": "code",
   "execution_count": 51,
   "id": "a96fdf9f",
   "metadata": {},
   "outputs": [
    {
     "name": "stdout",
     "output_type": "stream",
     "text": [
      "[1, 4, 7]\n",
      "[2, 5, 8]\n",
      "[3, 6, 9]\n"
     ]
    }
   ],
   "source": [
    "#9\n",
    "tm=[]\n",
    "for i in range(3):\n",
    "    t=[]\n",
    "    for j in range(3):\n",
    "        t.append(matrix[j][i])\n",
    "    tm.append(t)\n",
    "\n",
    "for row in tm:\n",
    "    print(row)"
   ]
  },
  {
   "cell_type": "code",
   "execution_count": 52,
   "id": "b861f229",
   "metadata": {},
   "outputs": [
    {
     "name": "stdout",
     "output_type": "stream",
     "text": [
      "[1, 4, 7, 2, 5, 8, 3, 6, 9]\n"
     ]
    }
   ],
   "source": [
    "#10\n",
    "t=[]\n",
    "for i in range(3):\n",
    "    for j in range(3):\n",
    "        t.append(matrix[j][i])\n",
    "\n",
    "print(t)"
   ]
  },
  {
   "cell_type": "code",
   "execution_count": 53,
   "id": "af7d57e7",
   "metadata": {},
   "outputs": [
    {
     "name": "stdout",
     "output_type": "stream",
     "text": [
      "[1, 2, 3, 4, 5, 6, 7, 8, 9, 10]\n",
      "[1, 2, 4, 5, 7, 99, 8, 10]\n"
     ]
    }
   ],
   "source": [
    "#11\n",
    "lst=[x for x in range(1,11)]\n",
    "print(lst)\n",
    "del lst[2]\n",
    "del lst[4]\n",
    "del lst[6]\n",
    "lst.insert(5, 99)\n",
    "print(lst)"
   ]
  },
  {
   "cell_type": "code",
   "execution_count": 55,
   "id": "371cfaa5",
   "metadata": {},
   "outputs": [
    {
     "name": "stdout",
     "output_type": "stream",
     "text": [
      "[(1, 10), (2, 9), (3, 8), (4, 7), (5, 6), (6, 5), (7, 4), (8, 3), (9, 2), (10, 1)]\n"
     ]
    }
   ],
   "source": [
    "#12\n",
    "lst1=[1,2,3,4,5,6,7,8,9,10]\n",
    "lst2=[10,9,8,7,6,5,4,3,2,1]\n",
    "z=list(zip(lst1,lst2))\n",
    "print(z)"
   ]
  },
  {
   "cell_type": "code",
   "execution_count": 66,
   "id": "2a8bae37",
   "metadata": {},
   "outputs": [
    {
     "name": "stdout",
     "output_type": "stream",
     "text": [
      "[1, 2, 3, 4, 5, 6, 7, 8, 9, 10]\n",
      "[10, 9, 8, 7, 6, 5, 4, 3, 2, 1]\n"
     ]
    }
   ],
   "source": [
    "#13\n",
    "lst=[1,2,3,4,5,6,7,8,9,10]\n",
    "lst_r=[]\n",
    "def r(list):\n",
    "    return lst[::-1]\n",
    "\n",
    "rev=r(lst)\n",
    "\n",
    "print(lst)\n",
    "print(rev)\n"
   ]
  },
  {
   "cell_type": "code",
   "execution_count": 73,
   "id": "4bef547d",
   "metadata": {},
   "outputs": [
    {
     "name": "stdout",
     "output_type": "stream",
     "text": [
      "[9, 8, 7, 7, 8, 16, 14, 2, 6, 4]\n",
      "[20, 16, 14, 18, 12, 5, 9, 15, 15, 1]\n",
      "[16, 9, 14]\n"
     ]
    }
   ],
   "source": [
    "#15\n",
    "import random\n",
    "lst1=[random.randint(1,20) for _ in range(1,11)]\n",
    "lst2=[random.randint(1,20) for _ in range(1,11)]\n",
    "print(lst1)\n",
    "print(lst2)\n",
    "lst3=[]\n",
    "for x in lst1:\n",
    "    if x in lst2:\n",
    "        lst3.append(x)\n",
    "print(list(set(lst3)))"
   ]
  }
 ],
 "metadata": {
  "kernelspec": {
   "display_name": "base",
   "language": "python",
   "name": "python3"
  },
  "language_info": {
   "codemirror_mode": {
    "name": "ipython",
    "version": 3
   },
   "file_extension": ".py",
   "mimetype": "text/x-python",
   "name": "python",
   "nbconvert_exporter": "python",
   "pygments_lexer": "ipython3",
   "version": "3.12.7"
  }
 },
 "nbformat": 4,
 "nbformat_minor": 5
}
